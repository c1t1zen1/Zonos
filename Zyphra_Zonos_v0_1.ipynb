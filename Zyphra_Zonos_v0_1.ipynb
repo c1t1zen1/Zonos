{
  "cells": [
    {
      "cell_type": "markdown",
      "metadata": {
        "id": "Z_iMpEme-9HS"
      },
      "source": [
        "# Zonos TTS Model - For Google Colab Notebook\n",
        "## MUST USE A100 GPU\n",
        "This notebook clones the [Zonos repository](https://github.com/Zyphra/Zonos), installs the required system and Python dependencies, and then runs a sample text-to-speech generation. The generated audio is saved as `sample.wav` and is also playable directly from the notebook."
      ]
    },
    {
      "cell_type": "code",
      "execution_count": null,
      "metadata": {
        "id": "v8YuTFHl-9HX"
      },
      "outputs": [],
      "source": [
        "# Update package lists and install eSpeak (required for phonemization)\n",
        "!apt update && apt install -y espeak-ng"
      ]
    },
    {
      "cell_type": "code",
      "execution_count": null,
      "metadata": {
        "id": "v0bEuLl--9HZ"
      },
      "outputs": [],
      "source": [
        "# Clone the Zonos repository from GitHub\n",
        "!git clone https://github.com/Zyphra/Zonos.git\n",
        "%cd Zonos"
      ]
    },
    {
      "cell_type": "code",
      "execution_count": null,
      "metadata": {
        "id": "XATte2ox-9Ha"
      },
      "outputs": [],
      "source": [
        "# Install Python dependencies using uv as recommended in the README cite50†\n",
        "!pip install -U uv\n",
        "!pip install -e .\n",
        "!pip install --no-build-isolation -e .[compile]"
      ]
    },
    {
      "cell_type": "code",
      "source": [
        "!pip install numpy==1.24.4\n",
        "!pip install scipy==1.13.3\n",
        "!pip install scikit-learn==1.6.1\n",
        "!pip install triton\n",
        "\n",
        "# Must restart session !!!\n",
        "# Must restart session !!!\n",
        "# Must restart session !!!"
      ],
      "metadata": {
        "id": "9lfKHrGOBQQX"
      },
      "execution_count": null,
      "outputs": []
    },
    {
      "cell_type": "markdown",
      "metadata": {
        "id": "SbB0VDZc-9Hb"
      },
      "source": [
        "## Running the TTS Sample\n",
        "\n",
        "The code below loads an example speaker sample, generates speech from the text **\"Hello, world!\"**, and saves the generated output to a `.wav` file."
      ]
    },
    {
      "cell_type": "code",
      "execution_count": null,
      "metadata": {
        "id": "17sRTcXD-9Hb"
      },
      "outputs": [],
      "source": [
        "import torch\n",
        "import torchaudio\n",
        "\n",
        "from zonos.model import Zonos\n",
        "from zonos.conditioning import make_cond_dict\n",
        "\n",
        "# Load the pretrained Zonos model (using the transformer model)\n",
        "device = \"cuda\" if torch.cuda.is_available() else \"cpu\"\n",
        "model = Zonos.from_pretrained(\"Zyphra/Zonos-v0.1-transformer\", device=device)\n",
        "\n",
        "# Load an example speaker audio file provided in the repo\n",
        "wav, sampling_rate = torchaudio.load(\"/content/Replace_With_Original_Example.mp3\") # <-- IMPORTANT USE ORGINAL SPEAKER EXAMPLE HERE / PLACE SAMPLE AUDIO IN COLAB DRIVE\n",
        "\n",
        "# Generate the speaker embedding from the example audio\n",
        "speaker = model.make_speaker_embedding(wav, sampling_rate)\n",
        "\n",
        "# Create the conditioning dictionary with the desired text\n",
        "cond_dict = make_cond_dict(text=\"Hello, world!\", speaker=speaker, language=\"en-us\")\n",
        "conditioning = model.prepare_conditioning(cond_dict)\n",
        "\n",
        "# Generate the audio codes from the model\n",
        "codes = model.generate(conditioning)\n",
        "\n",
        "# Decode the generated codes to waveform(s)\n",
        "wavs = model.autoencoder.decode(codes).cpu()\n",
        "\n",
        "# Save the first generated waveform to a .wav file\n",
        "torchaudio.save(\"sample.wav\", wavs[0], model.autoencoder.sampling_rate)\n",
        "\n",
        "print(\"Audio saved to sample.wav\")"
      ]
    },
    {
      "cell_type": "code",
      "execution_count": null,
      "metadata": {
        "id": "j2rbAX0k-9Hc"
      },
      "outputs": [],
      "source": [
        "# Play the generated audio directly in the notebook\n",
        "from IPython.display import Audio\n",
        "Audio(\"sample.wav\")"
      ]
    }
  ],
  "metadata": {
    "colab": {
      "provenance": [],
      "machine_shape": "hm",
      "gpuType": "A100"
    },
    "kernelspec": {
      "display_name": "Python 3",
      "name": "python3"
    },
    "language_info": {
      "name": "python"
    },
    "accelerator": "GPU"
  },
  "nbformat": 4,
  "nbformat_minor": 0
}